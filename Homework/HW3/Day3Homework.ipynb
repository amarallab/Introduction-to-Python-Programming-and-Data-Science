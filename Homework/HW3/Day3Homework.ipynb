{
 "cells": [
  {
   "cell_type": "markdown",
   "metadata": {},
   "source": [
    "# Day 3 Homework\n",
    "\n",
    "Today we've covered functions.\n",
    "\n",
    "You will be asked to write functions with a specific name. **If you do not use the name given you will receive a 0 from the autograder**\n",
    "\n",
    "Don't forget to handle errors"
   ]
  },
  {
   "cell_type": "markdown",
   "metadata": {},
   "source": [
    "# Question 1. Functions - Fibonacci number\n",
    "\n",
    "Write a function that gives you a list of Fibonacci numbers. The Fibonacci sequence starts with `0`\n",
    "\n",
    "    def fibonacci(n):\n",
    "        '''\n",
    "        input:\n",
    "            n - int, the number of fibonacci numbers to produce\n",
    "         output:\n",
    "             fib_seq - list, sequence of fibonacci numbers\n",
    "        '''"
   ]
  },
  {
   "cell_type": "code",
   "execution_count": 1,
   "metadata": {
    "collapsed": true
   },
   "outputs": [],
   "source": [
    "# Template\n",
    "#Use this cell to write and test your function\n"
   ]
  },
  {
   "cell_type": "markdown",
   "metadata": {},
   "source": [
    "# Question 2. Functions - Find digits\n",
    "Find the number of digits in an integer. \n",
    "\n",
    "    def number_of_digits(n):\n",
    "        '''\n",
    "        input:\n",
    "            n - number\n",
    "        output:\n",
    "            num_digits - int, nubmer of digits in number\n",
    "        '''"
   ]
  },
  {
   "cell_type": "code",
   "execution_count": 2,
   "metadata": {
    "collapsed": true
   },
   "outputs": [],
   "source": [
    "# Template\n",
    "#Your code here\n"
   ]
  },
  {
   "cell_type": "markdown",
   "metadata": {},
   "source": [
    "# Question 3. Functions - Area of a triangle\n",
    "Find the area of a triangle. \n",
    "\n",
    "Area of triangle: \n",
    "\n",
    "$\n",
    "Area = \\sqrt{(s \\times (s-a) \\times (s-b) \\times (s-c))} = (s \\times (s-a) \\times (s-b) \\times (s-c))^{0.5} \\\\\n",
    "s = \\frac{(a+b+c)}{2}\n",
    "$\n",
    "\n",
    "    def area_of_triangle(a, b, c):\n",
    "        '''\n",
    "        input:\n",
    "            a - numeric, measurement of side 1\n",
    "            b - numeric measurement of side 2\n",
    "            c - numeric, measurement of side 3\n",
    "         output:\n",
    "            area - numeric\n",
    "        '''"
   ]
  },
  {
   "cell_type": "code",
   "execution_count": 4,
   "metadata": {
    "collapsed": true
   },
   "outputs": [],
   "source": [
    "# Template\n",
    "#Your code here\n"
   ]
  },
  {
   "cell_type": "markdown",
   "metadata": {},
   "source": [
    "# Question 4. Functions - Process all roster files\n",
    "\n",
    "Write a function that will process all of the roster text files in the directory and find the tallest person.\n",
    "\n",
    "You should return the person's name.\n",
    "\n",
    "Remember to use some built-in standard library functions to make this easier.\n",
    "\n",
    "    def process_roster_files(folder):\n",
    "        '''\n",
    "        input:\n",
    "            folder - str, location of folder with rosters\n",
    "        output:\n",
    "            name - str, name of tallest person\n",
    "        '''"
   ]
  },
  {
   "cell_type": "code",
   "execution_count": null,
   "metadata": {
    "collapsed": true
   },
   "outputs": [],
   "source": [
    "# Template\n",
    "#your code here\n"
   ]
  },
  {
   "cell_type": "code",
   "execution_count": null,
   "metadata": {
    "collapsed": true
   },
   "outputs": [],
   "source": []
  }
 ],
 "metadata": {
  "anaconda-cloud": {},
  "kernelspec": {
   "display_name": "Python 3",
   "language": "python",
   "name": "python3"
  },
  "language_info": {
   "codemirror_mode": {
    "name": "ipython",
    "version": 3
   },
   "file_extension": ".py",
   "mimetype": "text/x-python",
   "name": "python",
   "nbconvert_exporter": "python",
   "pygments_lexer": "ipython3",
   "version": "3.8.10"
  },
  "toc": {
   "base_numbering": 1,
   "nav_menu": {},
   "number_sections": true,
   "sideBar": true,
   "skip_h1_title": false,
   "title_cell": "Table of Contents",
   "title_sidebar": "Contents",
   "toc_cell": false,
   "toc_position": {},
   "toc_section_display": true,
   "toc_window_display": true
  }
 },
 "nbformat": 4,
 "nbformat_minor": 1
}
