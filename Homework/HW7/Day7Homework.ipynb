{
 "cells": [
  {
   "cell_type": "markdown",
   "metadata": {},
   "source": [
    "# Question 1\n",
    "\n",
    "I want you to convert the date `2013-09-12` to a datetime `datetime` variable.\n",
    "\n",
    "    def transform_string_to_date(date_string):\n",
    "        '''\n",
    "        input:\n",
    "            date_string - str, represents a date as 'YYYY-MM-DD'\n",
    "        output:\n",
    "            date - datetime.date \n",
    "        '''"
   ]
  },
  {
   "cell_type": "markdown",
   "metadata": {},
   "source": [
    "# Question 2\n",
    "\n",
    "Now let's move on and work with the AAPL stock data again (Located in the Data/ folder). How much would I have made if I purchased 10 shares of AAPL stock at the Opening price on September 1st, 2000 and sold it at the closing price on March 7, 2008?\n",
    "\n",
    "    def calculate_eight_year_gain(fname):\n",
    "        '''\n",
    "        Calculates the stock gain from 9-1-2000 Open price to 3-7-2008 close price for\n",
    "        10 shares of stock\n",
    "        input:\n",
    "            fname - str, aapl stock price filename\n",
    "        output:\n",
    "            gain - float, monetary gain during period\n",
    "        '''"
   ]
  },
  {
   "cell_type": "markdown",
   "metadata": {},
   "source": [
    "# Question 3\n",
    "Write a function to count the number of dates AAPL was traded between two dates (both dates inclusive)\n",
    "\n",
    "    def count_number_of_trading_days(fname, start, stop):\n",
    "    '''\n",
    "    Counts the number of trading days between 1988-06-06 and 1999-12-07 (inclusive)\n",
    "    input:\n",
    "        start - str, start date in string format\n",
    "        stop - str, stop date in string format\n",
    "    output:\n",
    "        trading_days - int, number of trading days during the time period\n",
    "    '''"
   ]
  },
  {
   "cell_type": "markdown",
   "metadata": {},
   "source": [
    "# Question 4\n",
    "\n",
    "How many days did the stock close above its opening price during a given period of time (inclusive)?\n",
    "\n",
    "    def number_of_days_positive_gain(fname, start, stop):\n",
    "        '''\n",
    "        Counts the number of trading days between the start and stop date (inclusive)\n",
    "        where the close price is greater than the open price.\n",
    "        input:\n",
    "            start - str, start date in string format\n",
    "            stop - str, stop date in string format\n",
    "        output:\n",
    "            positive_days - int, number of trading days during the time period\n",
    "                                 where a positive gain was made\n",
    "        '''"
   ]
  },
  {
   "cell_type": "markdown",
   "metadata": {},
   "source": [
    "# Question 5\n",
    "\n",
    "Now let's work with the data on the college majors again. Except this time I want to examine **graduate** students. First, since this is a survey: which major (or majors if a tie) has the largest sample size? You can return just a Pandas series with the top major(s).\n",
    "\n",
    "    def largest_sample_size(fname):\n",
    "        '''\n",
    "        Identifies the major with the largest sample size from the survey\n",
    "        input:\n",
    "            fname - str, the filename of the grad students csv file\n",
    "        output:\n",
    "            major - str, the major with the largest sample size\n",
    "        '''"
   ]
  },
  {
   "cell_type": "markdown",
   "metadata": {},
   "source": [
    "# Question 6\n",
    "In a future far, far away (January 2017) the markets have cratered, upending the United States economy. In this brave new future, manufacturing, business, and commerce are 95% unemployed. All of our attentation has turned to individuals in the Arts (`Major_category` of `Arts`), which are now in high demand and only 5% are unemployed.\n",
    "\n",
    "How many of the individuals in the graduate student dataset will be unemployed in 2016?\n",
    "\n",
    "    def brave_new_future_unemployment(fname):\n",
    "        '''\n",
    "        What is the number of unemployed individuals when majors in the `Arts` are at 5% unemployment and\n",
    "        all other majors are at 95% unemployment\n",
    "        input:\n",
    "            fname - str, filepath to the graduate students file\n",
    "        output:\n",
    "            unemployed - int, the number of unemployed individuals\n",
    "        '''"
   ]
  },
  {
   "cell_type": "markdown",
   "metadata": {},
   "source": [
    "# Question 7\n",
    "\n",
    "How many majors have more non graduates employed (`Nongrad_employed`) than graduates employed (`Grad_employed`)?\n",
    "\n",
    "    def more_nongrad_employed(fname):\n",
    "        '''\n",
    "        How many majors have more non grads employed than grads?\n",
    "        input:\n",
    "            fname - str, filename\n",
    "        output:\n",
    "            num_nongrad_majors - int, number of majors with more non-graduates employed than graduates.\n",
    "        '''"
   ]
  },
  {
   "cell_type": "code",
   "execution_count": null,
   "metadata": {
    "collapsed": true
   },
   "outputs": [],
   "source": []
  }
 ],
 "metadata": {
  "anaconda-cloud": {},
  "kernelspec": {
   "display_name": "Python 3",
   "language": "python",
   "name": "python3"
  },
  "language_info": {
   "codemirror_mode": {
    "name": "ipython",
    "version": 3
   },
   "file_extension": ".py",
   "mimetype": "text/x-python",
   "name": "python",
   "nbconvert_exporter": "python",
   "pygments_lexer": "ipython3",
   "version": "3.8.10"
  },
  "toc": {
   "base_numbering": 1,
   "nav_menu": {},
   "number_sections": true,
   "sideBar": true,
   "skip_h1_title": false,
   "title_cell": "Table of Contents",
   "title_sidebar": "Contents",
   "toc_cell": false,
   "toc_position": {},
   "toc_section_display": true,
   "toc_window_display": true
  }
 },
 "nbformat": 4,
 "nbformat_minor": 1
}
