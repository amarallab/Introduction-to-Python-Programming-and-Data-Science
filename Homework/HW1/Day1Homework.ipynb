{
 "cells": [
  {
   "cell_type": "markdown",
   "metadata": {},
   "source": [
    "# Congrats on completing your first day of Python bootcamp!\n",
    "\n",
    "You are now well on your way to becoming a master at programing. \n",
    "Here are some problems that you can show off your new skills with.\n",
    "\n",
    "# Instructions to complete your homework\n",
    "\n",
    "In order to test your homework solutions automatically, we are going to ask you to insert the code you write into a function. To this end, we are creating for each question a template that looks something like this:\n",
    "\n",
    "    def function(parameter1, parameter2):\n",
    "        \"\"\"\n",
    "        Instructions for what your function will accomplish:\n",
    "            Write code that takes two numbers and subtracts the second from the first\n",
    "\n",
    "        Definition of the properties of the parameters to be accepted by the function:\n",
    "            Parameters:\n",
    "            -----------\n",
    "            parameter1 : (int)\n",
    "            parameter2 : (int)\n",
    "\n",
    "        Name and type of the answer to be return:\n",
    "            Return:\n",
    "            -------\n",
    "            answer : (int)\n",
    "        \"\"\"\n",
    "\n",
    "        #start writing your code below\n",
    "\n",
    "\n",
    "        return answer\n",
    "\n",
    "The easiest way to develop and test your code is to use the following structure:\n",
    "\n",
    "`Initialize parameters`\n",
    "\n",
    "`Code to be copied`\n",
    "\n",
    "`Printout of output`\n",
    "\n",
    "For the case above that would result in:\n",
    "\n",
    "    # Initialize parameters\n",
    "    parameter1 = 3    # Note that we asked for the inputs to be integers  \n",
    "    parameter2 = 5\n",
    "\n",
    "    # Code to be copied to solution\n",
    "    answer = parameter1 - parameter2\n",
    "\n",
    "    #Printout of output\n",
    "    print(answer)\n",
    "    \n",
    "If your code is correct and you feel confident that you have tested enough (meaning for many inputs). Then you can copy the lines of code under `Code to be copied to solution` to the cell where the function is defined under the comment `start writing your code below`.\n",
    "\n",
    "You can then execute the notebook cell with the function.  After that, you can simply call the function with whatever parameter values you wish. For example,\n",
    "    \n",
    "    function(3, 5)"
   ]
  },
  {
   "cell_type": "markdown",
   "metadata": {},
   "source": [
    "# Question 1\n",
    "You should write code to print the sum of two numbers. However, you might not always be given two numbers!\n",
    "Write code that will take two inputs and add them together if they are both numbers. Make sure that you don't try to add two non-numbers together!"
   ]
  },
  {
   "cell_type": "code",
   "execution_count": 1,
   "metadata": {},
   "outputs": [],
   "source": [
    "# Template\n",
    "def add_two_numbers(number1, number2):\n",
    "    '''\n",
    "    Write code that will take two numbers and add them together.\n",
    "\n",
    "    Parameters: \n",
    "    -----------\n",
    "    number1 : (int, float)\n",
    "    number2 : (int, float)\n",
    "    Watch out, these may not be numbers!\n",
    "\n",
    "    Return: \n",
    "    -------\n",
    "    twonumsum : (int, float)\n",
    "        The sum of number1 and number2.\n",
    "        If either number1 or number2 are not a number return the `None` data type. You can do that with the line:\n",
    "        return None\n",
    "    '''\n",
    "    \n",
    "    # start writing your code below\n",
    "    twonumsum = None #Fill in your own code\n",
    "\n",
    "    return twonumsum"
   ]
  },
  {
   "cell_type": "code",
   "execution_count": null,
   "metadata": {
    "collapsed": true
   },
   "outputs": [],
   "source": [
    "# Template\n",
    "add_two_numbers(2, 6)"
   ]
  },
  {
   "cell_type": "code",
   "execution_count": null,
   "metadata": {
    "collapsed": true
   },
   "outputs": [],
   "source": [
    "# Template\n",
    "add_two_numbers(2.5, 6.5)"
   ]
  },
  {
   "cell_type": "code",
   "execution_count": null,
   "metadata": {
    "collapsed": true
   },
   "outputs": [],
   "source": [
    "# Template\n",
    "add_two_numbers('cat', 6.5)"
   ]
  },
  {
   "cell_type": "code",
   "execution_count": null,
   "metadata": {
    "collapsed": true
   },
   "outputs": [],
   "source": [
    "# Template\n",
    "add_two_numbers(2, 'kitten')"
   ]
  },
  {
   "cell_type": "code",
   "execution_count": null,
   "metadata": {
    "collapsed": true
   },
   "outputs": [],
   "source": [
    "# Template\n",
    "#Add more tests here\n"
   ]
  },
  {
   "cell_type": "markdown",
   "metadata": {},
   "source": [
    "# Question 2\n",
    "\n",
    "You should write code that will take every third character from a word and capitalize it. So a word like:\n",
    "\n",
    "'potatoes'\n",
    " \n",
    " \n",
    " will become\n",
    " \n",
    " 'poTatOes'"
   ]
  },
  {
   "cell_type": "code",
   "execution_count": 1,
   "metadata": {
    "collapsed": true
   },
   "outputs": [],
   "source": [
    "# Template\n",
    "def third_letter_capitalize(word, word_length):\n",
    "    '''\n",
    "    Write code that will capitalize the third character (letter, number, punctuation and so on) in a given word\n",
    "    \n",
    "    Parameters: \n",
    "    -----------\n",
    "    word: string\n",
    "    word_length: integer\n",
    "    \n",
    "    Return:\n",
    "    --------\n",
    "    new_word : string\n",
    "    '''\n",
    "    #Fill in your own code\n",
    "    new_word = None\n",
    "    \n",
    "    return new_word"
   ]
  },
  {
   "cell_type": "code",
   "execution_count": null,
   "metadata": {
    "collapsed": true
   },
   "outputs": [],
   "source": [
    "# Template\n",
    "third_letter_capitalize('fragrant', 8)"
   ]
  },
  {
   "cell_type": "code",
   "execution_count": null,
   "metadata": {
    "collapsed": true
   },
   "outputs": [],
   "source": [
    "# Template\n",
    "third_letter_capitalize('hateful eight', 13)"
   ]
  },
  {
   "cell_type": "code",
   "execution_count": null,
   "metadata": {
    "collapsed": true
   },
   "outputs": [],
   "source": [
    "# Template\n",
    "third_letter_capitalize('ha2lm3', 6)"
   ]
  },
  {
   "cell_type": "markdown",
   "metadata": {},
   "source": [
    "# Question 3\n",
    "\n",
    "I want you to write code that will scan through a word and determine if it has the substring 'cat' inside of it.\n",
    "\n",
    "If it does, I want you to return `True`\n",
    "\n",
    "If it does not, I want you to return `False`"
   ]
  },
  {
   "cell_type": "code",
   "execution_count": 2,
   "metadata": {
    "collapsed": true
   },
   "outputs": [],
   "source": [
    "# Template\n",
    "def find_cat_in_word(word, word_length):\n",
    "    '''\n",
    "    Write code that will scan through a word and determine if it has the substring 'cat' inside of it.\n",
    "    If it does, return True, else return False\n",
    "    \n",
    "    Parameters:\n",
    "    -----------\n",
    "    word: string\n",
    "    word_length: integer\n",
    "    \n",
    "    Return:\n",
    "    -------\n",
    "    found_cat: boolean\n",
    "    '''\n",
    "    #Fill in your own code\n",
    "    found_cat = None\n",
    "    \n",
    "    return found_cat"
   ]
  },
  {
   "cell_type": "code",
   "execution_count": null,
   "metadata": {
    "collapsed": true
   },
   "outputs": [],
   "source": [
    "# Template\n",
    "find_cat_in_word('concatenate', 11)"
   ]
  },
  {
   "cell_type": "code",
   "execution_count": null,
   "metadata": {
    "collapsed": true
   },
   "outputs": [],
   "source": [
    "# Template\n",
    "find_cat_in_word('stapler', 7)"
   ]
  },
  {
   "cell_type": "code",
   "execution_count": null,
   "metadata": {
    "collapsed": true
   },
   "outputs": [],
   "source": [
    "# Template\n",
    "find_cat_in_word('to', 2)"
   ]
  },
  {
   "cell_type": "markdown",
   "metadata": {},
   "source": [
    "# Question 4\n",
    "\n",
    "I want you to write a simple code to create pig-latin words. The rules of pig-latin that we will use are as follows:\n",
    "\n",
    "For words that begin with a vowel (a,e,i,o,u), one just adds \"yay\" to the end. Examples are:\n",
    "\n",
    "\"eat\" → \"eatyay\"\n",
    "\n",
    "\"omelet\" → \"omeletyay\"\n",
    "\n",
    "\"are\" → \"areyay\"\n",
    "\n",
    "If a word begins with two consonants, the first two letters are moved to the end of the word. Then, \"ay\" is added, as in the following examples:\n",
    "\n",
    "\"trash\" → \"ashtray\"\n",
    "\n",
    "\"shove\" → \"oveshay\"\n",
    "\n",
    "\n",
    "For words that begin with a single consonant, the first letter is moved to the end of the word. Then, \"ay\"  is added, as in the following examples:\n",
    "\n",
    "\"pig\" → \"igpay\"\n",
    "\n",
    "\"banana\" → \"ananabay\"\n",
    "\n",
    "\"happy\" → \"appyhay\"\n",
    "\n",
    "\"duck\" → \"uckday\"\n",
    "\n",
    "\n",
    "If a word has a punctuation mark at the end it should be removed (pig latin doesn't know what to do with punctuation!). So as an example:\n",
    "\n",
    "\"pig!\" → \"igpay\""
   ]
  },
  {
   "cell_type": "code",
   "execution_count": 3,
   "metadata": {
    "collapsed": true
   },
   "outputs": [],
   "source": [
    "# Template\n",
    "def pig_latin(word):\n",
    "    '''\n",
    "    Write code that will take a word and translate it to pig latin. \n",
    "    \n",
    "    Parameters:\n",
    "    -----------\n",
    "    word: string\n",
    "    \n",
    "    Return:\n",
    "    -------\n",
    "    translated: string\n",
    "    '''\n",
    "    #Fill in your own code\n",
    "    translated = None\n",
    "        \n",
    "    return translated"
   ]
  },
  {
   "cell_type": "code",
   "execution_count": null,
   "metadata": {
    "collapsed": true
   },
   "outputs": [],
   "source": [
    "# Template Points 1\n",
    "pig_latin('party')"
   ]
  },
  {
   "cell_type": "code",
   "execution_count": null,
   "metadata": {
    "collapsed": true
   },
   "outputs": [],
   "source": [
    "# Template Points 1\n",
    "pig_latin('speakers.')"
   ]
  },
  {
   "cell_type": "code",
   "execution_count": null,
   "metadata": {
    "collapsed": true
   },
   "outputs": [],
   "source": [
    "# Template Points 1\n",
    "pig_latin('eat')"
   ]
  }
 ],
 "metadata": {
  "anaconda-cloud": {},
  "kernelspec": {
   "display_name": "Python 3",
   "language": "python",
   "name": "python3"
  },
  "language_info": {
   "codemirror_mode": {
    "name": "ipython",
    "version": 3
   },
   "file_extension": ".py",
   "mimetype": "text/x-python",
   "name": "python",
   "nbconvert_exporter": "python",
   "pygments_lexer": "ipython3",
   "version": "3.8.10"
  },
  "toc": {
   "base_numbering": 1,
   "nav_menu": {},
   "number_sections": true,
   "sideBar": true,
   "skip_h1_title": false,
   "title_cell": "Table of Contents",
   "title_sidebar": "Contents",
   "toc_cell": false,
   "toc_position": {},
   "toc_section_display": true,
   "toc_window_display": true
  }
 },
 "nbformat": 4,
 "nbformat_minor": 1
}
