{
 "cells": [
  {
   "cell_type": "markdown",
   "metadata": {},
   "source": [
    "# Day 4 Homework: Dictionaries"
   ]
  },
  {
   "cell_type": "markdown",
   "metadata": {},
   "source": [
    "# Question 1: Parse image path\n",
    "\n",
    "Write a function to parse image path (a string), and return the year (int), title (str), and number (int) that are contained in the name. You do not need to do any processing on the painting title, just reproduce it faithfully as it is in the filename. For reference, all filenames are structured as:\n",
    "\n",
    "`year-title-number.extension`\n",
    "\n",
    "    def parse_image_path(image_filename):\n",
    "        '''\n",
    "        input:\n",
    "            image_filename - str, name of image file\n",
    "        output:\n",
    "            year - int, year of painting\n",
    "            title - str, name of painting\n",
    "            num - int, final number on filename\n"
   ]
  },
  {
   "cell_type": "code",
   "execution_count": 2,
   "metadata": {
    "collapsed": true
   },
   "outputs": [],
   "source": [
    "# Template\n",
    "#Your code here\n"
   ]
  },
  {
   "cell_type": "markdown",
   "metadata": {},
   "source": [
    "# Question 2: Create a dictionary containing each path by year\n",
    "\n",
    "Write a function that looks in a directory finds the names of all the jpg images inside it, parses the name of the images, and counts how many paintings were painted each year. You should use your function from Question 1 to process the filenames\n",
    "\n",
    "Store the counts inside a dictionary.\n",
    "\n",
    "    def image_year(directory):\n",
    "        '''\n",
    "        input:\n",
    "            directory - directory with images in it\n",
    "        output:\n",
    "            year_dict - dict, dictionary of years and the number of paintings made in that year. \n",
    "        '''"
   ]
  },
  {
   "cell_type": "code",
   "execution_count": null,
   "metadata": {
    "collapsed": true
   },
   "outputs": [],
   "source": [
    "# Template\n",
    "#Your code here\n"
   ]
  },
  {
   "cell_type": "markdown",
   "metadata": {},
   "source": [
    "# Question 3: Count the word occurences in Picasso titles\n",
    "\n",
    "Write a function that looks in a directory finds the names of all the jpg images inside it, parses the name of the images, and counts the number of occurences of each word. You should strip out occurrences of `(`, `)`, `'`, and `,` from the words before adding to the dictionary.\n",
    "\n",
    "Store the counts inside a dictionary.\n",
    "\n",
    "    def image_word_frequency(directory):\n",
    "        '''\n",
    "        input:\n",
    "            directory - str, directory that contains the image files\n",
    "        output:\n",
    "            word_dict - dict, {'word' : occurences, ...} - occurence of word in title\n",
    "        '''"
   ]
  },
  {
   "cell_type": "code",
   "execution_count": 3,
   "metadata": {
    "collapsed": true
   },
   "outputs": [],
   "source": [
    "# Template\n",
    "#Your code here\n"
   ]
  },
  {
   "cell_type": "markdown",
   "metadata": {},
   "source": [
    "# Question 4: Read JSON files\n",
    "\n",
    "There is a file called `divvy_network.json` that contains data about individual Divvy stations. What is the average capacity of bikes across all divvy stations?\n",
    "\n",
    "    def calc_average_station_capacity(filename):\n",
    "        '''\n",
    "        input:\n",
    "            filename - str, name of divvy station file data\n",
    "        output:\n",
    "            average_capacity - float, average capacity across all divvy stations\n",
    "        '''\n"
   ]
  },
  {
   "cell_type": "code",
   "execution_count": 4,
   "metadata": {
    "collapsed": true
   },
   "outputs": [],
   "source": [
    "# Template\n",
    "#Your code goes here\n"
   ]
  },
  {
   "cell_type": "markdown",
   "metadata": {},
   "source": [
    "# Question 5: Write average and standard deviation station capacities to JSON file\n",
    "\n",
    "Calculate the average capacity across stations and the standard deviation in capacity. Store the attributes as a dictionary and write to a JSON file. Your answer JSON should look like (pretty printed here only for visual clarity):\n",
    "\n",
    "```\n",
    "{\n",
    " 'mean': NUMBER,\n",
    " 'std': NUMBER\n",
    "}\n",
    "```\n",
    "\n",
    "Return the filename after writing\n",
    "\n",
    "    def write_station_capacity_attributes(filename, save_filename):\n",
    "        '''\n",
    "        input:\n",
    "            filename: str, divvy file with data\n",
    "            save_filename: str, name of json file to save\n",
    "        return:\n",
    "            save_filename: str, name of json file that you saved data in\n",
    "        '''"
   ]
  },
  {
   "cell_type": "code",
   "execution_count": 5,
   "metadata": {
    "collapsed": true
   },
   "outputs": [],
   "source": [
    "# Template\n",
    "#Your code goes here\n"
   ]
  },
  {
   "cell_type": "code",
   "execution_count": null,
   "metadata": {
    "collapsed": true
   },
   "outputs": [],
   "source": []
  }
 ],
 "metadata": {
  "anaconda-cloud": {},
  "kernelspec": {
   "display_name": "Python 3",
   "language": "python",
   "name": "python3"
  },
  "language_info": {
   "codemirror_mode": {
    "name": "ipython",
    "version": 3
   },
   "file_extension": ".py",
   "mimetype": "text/x-python",
   "name": "python",
   "nbconvert_exporter": "python",
   "pygments_lexer": "ipython3",
   "version": "3.8.10"
  },
  "toc": {
   "base_numbering": 1,
   "nav_menu": {},
   "number_sections": true,
   "sideBar": true,
   "skip_h1_title": false,
   "title_cell": "Table of Contents",
   "title_sidebar": "Contents",
   "toc_cell": false,
   "toc_position": {},
   "toc_section_display": true,
   "toc_window_display": true
  }
 },
 "nbformat": 4,
 "nbformat_minor": 1
}
